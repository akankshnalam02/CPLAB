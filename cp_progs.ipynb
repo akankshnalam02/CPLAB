{
 "cells": [
  {
   "cell_type": "code",
   "execution_count": 1,
   "id": "3e866adb",
   "metadata": {},
   "outputs": [
    {
     "name": "stdout",
     "output_type": "stream",
     "text": [
      "[1, 2, 3, 6, 9, 8, 7, 4, 5]\n"
     ]
    }
   ],
   "source": [
    "def spiral_print(matrix):\n",
    "    if not matrix:\n",
    "        return []\n",
    "\n",
    "    result = []\n",
    "    top, bottom, left, right = 0, len(matrix) - 1, 0, len(matrix[0]) - 1\n",
    "\n",
    "    while top <= bottom and left <= right:\n",
    "        for i in range(left, right + 1):\n",
    "            result.append(matrix[top][i])\n",
    "        top += 1\n",
    "        \n",
    "        for i in range(top, bottom + 1):\n",
    "            result.append(matrix[i][right])\n",
    "        right -= 1\n",
    "        \n",
    "        if top <= bottom:\n",
    "            for i in range(right, left - 1, -1):\n",
    "                result.append(matrix[bottom][i])\n",
    "            bottom -= 1\n",
    "        \n",
    "        if left <= right:\n",
    "            for i in range(bottom, top - 1, -1):\n",
    "                result.append(matrix[i][left])\n",
    "            left += 1\n",
    "\n",
    "    return result\n",
    "\n",
    "# Example usage\n",
    "matrix = [[1, 2, 3], [4, 5, 6], [7, 8, 9]]\n",
    "print(spiral_print(matrix))"
   ]
  },
  {
   "cell_type": "code",
   "execution_count": 2,
   "id": "0bff57da",
   "metadata": {},
   "outputs": [
    {
     "name": "stdout",
     "output_type": "stream",
     "text": [
      "[1, 2, 3, 4, 5]\n"
     ]
    }
   ],
   "source": [
    "def remove_duplicates(input_list):\n",
    "    \"\"\"Remove duplicates from a list while preserving the original order.\"\"\"\n",
    "    seen = set()  # Set to track seen elements\n",
    "    result = []   # List to store the result without duplicates\n",
    "\n",
    "    for item in input_list:\n",
    "        if item not in seen:  # Check if the item has been seen before\n",
    "            seen.add(item)    # Add it to the set of seen items\n",
    "            result.append(item)  # Append it to the result list\n",
    "\n",
    "    return result\n",
    "\n",
    "# Example usage\n",
    "if _name_ == \"_main_\":\n",
    "    my_list = [2, 4, 10, 20, 5, 2, 20, 4]\n",
    "    print(\"Original List:\", my_list)\n",
    "    \n",
    "    unique_list = remove_duplicates(my_list)\n",
    "    print(\"List after removing duplicates:\", unique_list)"
   ]
  },
  {
   "cell_type": "code",
   "execution_count": 3,
   "id": "6b26d2e9",
   "metadata": {},
   "outputs": [
    {
     "name": "stdout",
     "output_type": "stream",
     "text": [
      "5\n",
      "10\n"
     ]
    }
   ],
   "source": [
    "class TwoStacks:\n",
    "    def __init__(self, size):\n",
    "        self.size = size\n",
    "        self.arr = [None] * size\n",
    "        self.top1 = -1\n",
    "        self.top2 = size\n",
    "\n",
    "    def push1(self, item):\n",
    "        if self.top1 + 1 < self.top2:\n",
    "            self.top1 += 1\n",
    "            self.arr[self.top1] = item\n",
    "        else:\n",
    "            print(\"Stack Overflow\")\n",
    "\n",
    "    def push2(self, item):\n",
    "        if self.top2 - 1 > self.top1:\n",
    "            self.top2 -= 1\n",
    "            self.arr[self.top2] = item\n",
    "        else:\n",
    "            print(\"Stack Overflow\")\n",
    "\n",
    "    def pop1(self):\n",
    "        if self.top1 >= 0:\n",
    "            item = self.arr[self.top1]\n",
    "            self.top1 -= 1\n",
    "            return item\n",
    "        else:\n",
    "            print(\"Stack Underflow\")\n",
    "\n",
    "    def pop2(self):\n",
    "        if self.top2 < self.size:\n",
    "            item = self.arr[self.top2]\n",
    "            self.top2 += 1\n",
    "            return item\n",
    "        else:\n",
    "            print(\"Stack Underflow\")\n",
    "\n",
    "# Example usage\n",
    "stacks = TwoStacks(10)\n",
    "stacks.push1(5)\n",
    "stacks.push2(10)\n",
    "print(stacks.pop1())\n",
    "print(stacks.pop2())"
   ]
  },
  {
   "cell_type": "code",
   "execution_count": 4,
   "id": "78659f32",
   "metadata": {},
   "outputs": [
    {
     "name": "stdout",
     "output_type": "stream",
     "text": [
      "2\n"
     ]
    }
   ],
   "source": [
    "def fibonacci_search(arr, x):\n",
    "    fib_m_2 = 0  \n",
    "    fib_m_1 = 1  \n",
    "    fib_m = fib_m_2 + fib_m_1  \n",
    "\n",
    "    while fib_m < len(arr):\n",
    "        fib_m_2 = fib_m_1\n",
    "        fib_m_1 = fib_m\n",
    "        fib_m = fib_m_2 + fib_m_1\n",
    "\n",
    "    offset = -1\n",
    "\n",
    "    while fib_m > 1:\n",
    "        i = min(offset + fib_m_2, len(arr) - 1)\n",
    "\n",
    "        if arr[i] < x:\n",
    "            fib_m = fib_m_1\n",
    "            fib_m_1 = fib_m_2\n",
    "            offset = i\n",
    "        elif arr[i] > x:\n",
    "            fib_m = fib_m_2\n",
    "            fib_m_2 = fib_m_1 - fib_m_2\n",
    "        else:\n",
    "            return i\n",
    "\n",
    "    if fib_m_1 and offset + 1 < len(arr) and arr[offset + 1] == x:\n",
    "        return offset + 1\n",
    "\n",
    "    return -1\n",
    "\n",
    "# Example usage\n",
    "arr = [10, 22, 35, 40, 45, 50]\n",
    "x = 35\n",
    "print(fibonacci_search(arr, x))"
   ]
  },
  {
   "cell_type": "code",
   "execution_count": 5,
   "id": "0893fe20",
   "metadata": {},
   "outputs": [
    {
     "name": "stdout",
     "output_type": "stream",
     "text": [
      "20\n",
      "10\n"
     ]
    }
   ],
   "source": [
    "class Stack:\n",
    "    def __init__(self):\n",
    "        self.stack = []\n",
    "\n",
    "    def push(self, item):\n",
    "        self.stack.append(item)\n",
    "\n",
    "    def pop(self):\n",
    "        if not self.is_empty():\n",
    "            return self.stack.pop()\n",
    "        else:\n",
    "            print(\"Stack is empty\")\n",
    "\n",
    "    def peek(self):\n",
    "        if not self.is_empty():\n",
    "            return self.stack[-1]\n",
    "    \n",
    "    def is_empty(self):\n",
    "        return len(self.stack) == 0\n",
    "\n",
    "# Example usage\n",
    "s = Stack()\n",
    "s.push(10)\n",
    "s.push(20)\n",
    "print(s.pop())\n",
    "print(s.peek())"
   ]
  },
  {
   "cell_type": "code",
   "execution_count": null,
   "id": "40f0b1a1",
   "metadata": {},
   "outputs": [],
   "source": []
  }
 ],
 "metadata": {
  "kernelspec": {
   "display_name": "Python 3 (ipykernel)",
   "language": "python",
   "name": "python3"
  },
  "language_info": {
   "codemirror_mode": {
    "name": "ipython",
    "version": 3
   },
   "file_extension": ".py",
   "mimetype": "text/x-python",
   "name": "python",
   "nbconvert_exporter": "python",
   "pygments_lexer": "ipython3",
   "version": "3.10.9"
  }
 },
 "nbformat": 4,
 "nbformat_minor": 5
}
